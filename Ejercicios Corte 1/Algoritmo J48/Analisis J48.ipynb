{
 "cells": [
  {
   "cell_type": "code",
   "execution_count": 1,
   "metadata": {},
   "outputs": [],
   "source": [
    "import pandas as pd\n",
    "import numpy as np\n",
    "import Orange\n",
    "import pickle\n",
    "from sklearn.model_selection import StratifiedKFold #Ayudara a dividir los dataframes k veces para la validacion cruzada"
   ]
  },
  {
   "cell_type": "markdown",
   "metadata": {},
   "source": [
    "### Cargue de los datasets"
   ]
  },
  {
   "cell_type": "code",
   "execution_count": 2,
   "metadata": {},
   "outputs": [],
   "source": [
    "tic_tac_toe_data =Orange.data.Table(\"Datasets/Tic-Tac-Toe Endgame Data Set/Tic-Tac-Toe Endgame Data Set.xlsx\")\n",
    "credit_approval_data = Orange.data.Table(\"Datasets/Credit Approval Data Set/Credit Approval Data Set.xlsx\")\n",
    "wine_data = Orange.data.Table(\"Datasets/Wine Dataset/Wine Dataset.xlsx\")"
   ]
  },
  {
   "cell_type": "markdown",
   "metadata": {},
   "source": [
    "### Importando modelos arbol J48 creados en orange"
   ]
  },
  {
   "cell_type": "code",
   "execution_count": 3,
   "metadata": {},
   "outputs": [],
   "source": [
    "tic_tac_toe_model_url=\"Datasets/Tic-Tac-Toe Endgame Data Set/Tree.pkcls\"\n",
    "credit_approval_model_url=\"Datasets/Credit Approval Data Set/Tree.pkcls\"\n",
    "wine_model_url=\"Datasets/Wine Dataset/Tree.pkcls\"\n",
    "\n",
    "with open(tic_tac_toe_model_url, \"rb\") as model1:\n",
    "    tic_tac_toe_tree = pickle.load(model1)\n",
    "    \n",
    "with open(credit_approval_model_url, \"rb\") as model2:\n",
    "    credit_approval_tree = pickle.load(model2)\n",
    "    \n",
    "with open(wine_model_url, \"rb\") as model3:\n",
    "    wine_tree = pickle.load(model3)"
   ]
  },
  {
   "cell_type": "code",
   "execution_count": 4,
   "metadata": {},
   "outputs": [
    {
     "data": {
      "text/plain": [
       "TreeModel(data=<?>, root=<Orange.tree.DiscreteNode at 0x19e4dc9f1f0>)"
      ]
     },
     "execution_count": 4,
     "metadata": {},
     "output_type": "execute_result"
    }
   ],
   "source": [
    "tic_tac_toe_tree"
   ]
  },
  {
   "cell_type": "code",
   "execution_count": 5,
   "metadata": {},
   "outputs": [
    {
     "data": {
      "text/plain": [
       "TreeModel(data=<?>, root=<Orange.tree.DiscreteNode at 0x19e4e5bdd30>)"
      ]
     },
     "execution_count": 5,
     "metadata": {},
     "output_type": "execute_result"
    }
   ],
   "source": [
    "credit_approval_tree"
   ]
  },
  {
   "cell_type": "code",
   "execution_count": 6,
   "metadata": {},
   "outputs": [
    {
     "data": {
      "text/plain": [
       "TreeModel(data=<?>, root=<Orange.tree.NumericNode at 0x19e4e5c7f10>)"
      ]
     },
     "execution_count": 6,
     "metadata": {},
     "output_type": "execute_result"
    }
   ],
   "source": [
    "wine_tree"
   ]
  },
  {
   "cell_type": "markdown",
   "metadata": {},
   "source": [
    "### Se crean las funciones para hacer prueba por reescritura, leave one out y cross validation"
   ]
  },
  {
   "cell_type": "markdown",
   "metadata": {},
   "source": [
    "Funcion para reescritura"
   ]
  },
  {
   "cell_type": "code",
   "execution_count": 7,
   "metadata": {},
   "outputs": [],
   "source": [
    "def reescritura(datos, arbol, class_column_name):\n",
    "    original_target = datos.get_column_view(class_column_name)[0].astype('int').tolist()\n",
    "    predicciones = arbol(datos).tolist()\n",
    "    #print('________________________________')\n",
    "\n",
    "    #print('Original: '+str(original_target))\n",
    "    #print('Predicciones: '+str(predicciones))\n",
    "    \n",
    "    #print('_______________________________')\n",
    "    good_predictions=0\n",
    "    for t,p in zip(original_target, predicciones):\n",
    "        if t == p:\n",
    "           good_predictions=good_predictions+1\n",
    "    \n",
    "    exactitud = good_predictions/len(original_target)\n",
    "    return  exactitud"
   ]
  },
  {
   "cell_type": "markdown",
   "metadata": {},
   "source": [
    "Funciones para validacion cruzada"
   ]
  },
  {
   "cell_type": "code",
   "execution_count": 8,
   "metadata": {},
   "outputs": [],
   "source": [
    "def promedio(lst):\n",
    "    return sum(lst) / len(lst)"
   ]
  },
  {
   "cell_type": "code",
   "execution_count": 9,
   "metadata": {},
   "outputs": [],
   "source": [
    "def sub_arbol(data, class_column_name, train_index, test_index):\n",
    "    train = data[min(train_index):max(train_index)]\n",
    "    test = data[min(test_index):max(test_index)]\n",
    "    tr = Orange.classification.TreeLearner()\n",
    "    arbol = tr(train)\n",
    "    exactitud = reescritura(test, arbol, class_column_name)\n",
    "    return exactitud"
   ]
  },
  {
   "cell_type": "code",
   "execution_count": 10,
   "metadata": {},
   "outputs": [],
   "source": [
    "def cross_validation(data, class_column_name, ndivisiones=5):\n",
    "    X=pd.DataFrame(np.zeros((len(data), 1)))\n",
    "    y=pd.DataFrame(np.zeros((len(data), 1)))\n",
    "    skf = StratifiedKFold(n_splits=ndivisiones)\n",
    "    lista_exactitud = []\n",
    "    for k, (train_index, test_index) in enumerate(skf.split(X, y)):\n",
    "        train_index = train_index.tolist()\n",
    "        test_index=test_index.tolist()\n",
    "        #print(len(train_index))\n",
    "        #print(len(test_index))\n",
    "        exactitud = sub_arbol(data, class_column_name, train_index, test_index)\n",
    "        lista_exactitud.append(exactitud)\n",
    "    return lista_exactitud"
   ]
  },
  {
   "cell_type": "markdown",
   "metadata": {},
   "source": [
    "Funcion para leave one out"
   ]
  },
  {
   "cell_type": "code",
   "execution_count": 11,
   "metadata": {},
   "outputs": [],
   "source": [
    "#def leave_one_out(datos):"
   ]
  },
  {
   "cell_type": "markdown",
   "metadata": {},
   "source": [
    "#### Analisis para Tic-Tac-Toe Endgame Data Set (Datos Simbolicos)"
   ]
  },
  {
   "cell_type": "markdown",
   "metadata": {},
   "source": [
    "Reescritura"
   ]
  },
  {
   "cell_type": "code",
   "execution_count": 12,
   "metadata": {},
   "outputs": [],
   "source": [
    "exactitud1 = reescritura(tic_tac_toe_data, tic_tac_toe_tree, 'Class')"
   ]
  },
  {
   "cell_type": "code",
   "execution_count": 13,
   "metadata": {},
   "outputs": [
    {
     "name": "stdout",
     "output_type": "stream",
     "text": [
      "En reescritura la exactitud es 0.941544885177453\n"
     ]
    }
   ],
   "source": [
    "print(f'En reescritura la exactitud es {exactitud1}')"
   ]
  },
  {
   "cell_type": "markdown",
   "metadata": {},
   "source": [
    "Validacion cruzada"
   ]
  },
  {
   "cell_type": "code",
   "execution_count": 14,
   "metadata": {},
   "outputs": [],
   "source": [
    "lista_exactitud_tic_tac_toe=cross_validation(tic_tac_toe_data, 'Class', 5)"
   ]
  },
  {
   "cell_type": "code",
   "execution_count": 15,
   "metadata": {},
   "outputs": [
    {
     "name": "stdout",
     "output_type": "stream",
     "text": [
      "[0.4397905759162304, 1.0, 1.0, 1.0, 0.3157894736842105]\n",
      "En validacion cruzada la exactitud es 0.7511160099200882\n"
     ]
    }
   ],
   "source": [
    "print(lista_exactitud_tic_tac_toe)\n",
    "print('En validacion cruzada la exactitud es',promedio(lista_exactitud_tic_tac_toe))"
   ]
  },
  {
   "cell_type": "markdown",
   "metadata": {},
   "source": [
    "#### Analisis para Credit Approval Data Set (Dataset con missing values)"
   ]
  },
  {
   "cell_type": "markdown",
   "metadata": {},
   "source": [
    "Reescritura"
   ]
  },
  {
   "cell_type": "code",
   "execution_count": 16,
   "metadata": {},
   "outputs": [],
   "source": [
    "exactitud2 = reescritura(credit_approval_data, credit_approval_tree, 'Class')"
   ]
  },
  {
   "cell_type": "code",
   "execution_count": 17,
   "metadata": {},
   "outputs": [
    {
     "name": "stdout",
     "output_type": "stream",
     "text": [
      "En reescritura la exactitud es 0.936231884057971\n"
     ]
    }
   ],
   "source": [
    "print(f'En reescritura la exactitud es {exactitud2}')"
   ]
  },
  {
   "cell_type": "markdown",
   "metadata": {},
   "source": [
    "Validacion Cruzada"
   ]
  },
  {
   "cell_type": "code",
   "execution_count": 18,
   "metadata": {},
   "outputs": [],
   "source": [
    "lista_exactitud_credit_approval=cross_validation(credit_approval_data, 'Class', 5)"
   ]
  },
  {
   "cell_type": "code",
   "execution_count": 19,
   "metadata": {},
   "outputs": [
    {
     "name": "stdout",
     "output_type": "stream",
     "text": [
      "[0.6423357664233577, 0.9708029197080292, 0.9708029197080292, 0.9781021897810219, 0.8467153284671532]\n",
      "En validacion cruzada la exactitud es 0.8817518248175183\n"
     ]
    }
   ],
   "source": [
    "print(lista_exactitud_credit_approval)\n",
    "print('En validacion cruzada la exactitud es',promedio(lista_exactitud_credit_approval))"
   ]
  },
  {
   "cell_type": "markdown",
   "metadata": {},
   "source": [
    "#### Analisis para wine dataset"
   ]
  },
  {
   "cell_type": "markdown",
   "metadata": {},
   "source": [
    "Reescritura"
   ]
  },
  {
   "cell_type": "code",
   "execution_count": 20,
   "metadata": {},
   "outputs": [],
   "source": [
    "exactitud3 = reescritura(wine_data,wine_tree,'target')"
   ]
  },
  {
   "cell_type": "code",
   "execution_count": 21,
   "metadata": {},
   "outputs": [
    {
     "name": "stdout",
     "output_type": "stream",
     "text": [
      "En reescritura la exactitud es 0.9887640449438202\n"
     ]
    }
   ],
   "source": [
    "print(f'En reescritura la exactitud es {exactitud3}')"
   ]
  },
  {
   "cell_type": "markdown",
   "metadata": {},
   "source": [
    "Validacion Cruzada"
   ]
  },
  {
   "cell_type": "code",
   "execution_count": 22,
   "metadata": {},
   "outputs": [],
   "source": [
    "lista_exactitud_wine=cross_validation(wine_data, 'target', 5)"
   ]
  },
  {
   "cell_type": "code",
   "execution_count": 23,
   "metadata": {},
   "outputs": [
    {
     "name": "stdout",
     "output_type": "stream",
     "text": [
      "[0.9142857142857143, 0.9428571428571428, 1.0, 1.0, 0.7058823529411765]\n",
      "En validacion cruzada la exactitud es 0.9126050420168067\n"
     ]
    }
   ],
   "source": [
    "print(lista_exactitud_wine)\n",
    "print('En validacion cruzada la exactitud es',promedio(lista_exactitud_wine))"
   ]
  }
 ],
 "metadata": {
  "kernelspec": {
   "display_name": "Python 3 (ipykernel)",
   "language": "python",
   "name": "python3"
  },
  "language_info": {
   "codemirror_mode": {
    "name": "ipython",
    "version": 3
   },
   "file_extension": ".py",
   "mimetype": "text/x-python",
   "name": "python",
   "nbconvert_exporter": "python",
   "pygments_lexer": "ipython3",
   "version": "3.9.2"
  }
 },
 "nbformat": 4,
 "nbformat_minor": 1
}